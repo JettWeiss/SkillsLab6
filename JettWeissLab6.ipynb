{
 "cells": [
  {
   "cell_type": "code",
   "execution_count": 9,
   "id": "e1230abb-d807-4810-9611-8384ff0e2f8a",
   "metadata": {},
   "outputs": [
    {
     "name": "stdin",
     "output_type": "stream",
     "text": [
      "Enter your name Jett\n",
      "Enter a message Hello\n"
     ]
    },
    {
     "name": "stdout",
     "output_type": "stream",
     "text": [
      "Jett, Hello\n"
     ]
    }
   ],
   "source": [
    "name = input(\"Enter your name\")\n",
    "message = input(\"Enter a message\")\n",
    "print(name + \", \"  + message)"
   ]
  },
  {
   "cell_type": "code",
   "execution_count": null,
   "id": "b5b561df-499b-4752-acca-659067b8d6fd",
   "metadata": {},
   "outputs": [],
   "source": []
  }
 ],
 "metadata": {
  "kernelspec": {
   "display_name": "Python 3 (ipykernel)",
   "language": "python",
   "name": "python3"
  },
  "language_info": {
   "codemirror_mode": {
    "name": "ipython",
    "version": 3
   },
   "file_extension": ".py",
   "mimetype": "text/x-python",
   "name": "python",
   "nbconvert_exporter": "python",
   "pygments_lexer": "ipython3",
   "version": "3.12.4"
  }
 },
 "nbformat": 4,
 "nbformat_minor": 5
}
